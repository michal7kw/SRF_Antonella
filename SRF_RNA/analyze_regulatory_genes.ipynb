{
  "cells": [
    {
      "cell_type": "markdown",
      "metadata": {},
      "source": [
        "# Code Summary\n",
        "\n",
        "This Python script analyzes the differential expression of regulatory genes in genomic data. It:\n",
        "\n",
        "1. Loads a list of regulatory overlapping genes from a text file and maps them to their Ensembl IDs using a GTF annotation file\n",
        "\n",
        "2. Retrieves differential expression data for these genes from a DESeq2 analysis comparing \"YAF vs GFP\" conditions\n",
        "\n",
        "3. Classifies each regulatory gene as:\n",
        "   - Upregulated (log2FoldChange > 0, padj < 0.01)\n",
        "   - Downregulated (log2FoldChange < 0, padj < 0.01)\n",
        "   - Not significant\n",
        "\n",
        "4. Creates a bar chart showing the percentage of regulatory genes that are upregulated vs downregulated\n",
        "\n",
        "5. Saves the results as:\n",
        "   - A complete CSV with all regulatory genes and their expression data\n",
        "   - Separate CSV files for upregulated and downregulated genes\n",
        "   - Visualization plots in PNG and PDF formats"
      ]
    },
    {
      "cell_type": "code",
      "execution_count": 15,
      "metadata": {},
      "outputs": [],
      "source": [
        "import os\n",
        "import pandas as pd\n",
        "import numpy as np\n",
        "import matplotlib.pyplot as plt\n",
        "import seaborn as sns\n",
        "import glob\n",
        "\n",
        "# %% \n",
        "# Define file paths\n",
        "regulatory_genes_file = \"../SRF_H2AK119Ub/1_iterative_processing/analysis/11_gene_overlap_analysis_strict/all_overlapping_genes.txt\"\n",
        "diff_expr_file = \"../SRF_RNA/results/deseq2/YAF_vs_GFP/differential_expression.csv\"\n",
        "gtf_file = \"../COMMON_DATA/gencode.v43.basic.annotation.gtf\"\n",
        "output_dir = \"../SRF_RNA/results/regulatory_genes_analysis\"\n",
        "\n",
        "# Create output directory if it doesn't exist\n",
        "os.makedirs(output_dir, exist_ok=True)"
      ]
    },
    {
      "cell_type": "code",
      "execution_count": 16,
      "metadata": {},
      "outputs": [
        {
          "name": "stdout",
          "output_type": "stream",
          "text": [
            "Loaded 3389 regulatory overlapping genes\n"
          ]
        }
      ],
      "source": [
        "# Read the list of regulatory overlapping genes\n",
        "with open(regulatory_genes_file, 'r') as f:\n",
        "    regulatory_genes = [line.strip() for line in f.readlines() if line.strip()]\n",
        "\n",
        "print(f\"Loaded {len(regulatory_genes)} regulatory overlapping genes\")"
      ]
    },
    {
      "cell_type": "code",
      "execution_count": 17,
      "metadata": {},
      "outputs": [],
      "source": [
        "# Create a mapping from gene symbol to Ensembl ID by parsing the GTF file\n",
        "gene_symbol_to_ensembl = {}"
      ]
    },
    {
      "cell_type": "code",
      "execution_count": 18,
      "metadata": {},
      "outputs": [
        {
          "name": "stdout",
          "output_type": "stream",
          "text": [
            "Initial mapping was insufficient, trying a more comprehensive approach...\n",
            "Processed 100000 lines from GTF file...\n",
            "Processed 200000 lines from GTF file...\n",
            "Processed 300000 lines from GTF file...\n",
            "Processed 400000 lines from GTF file...\n",
            "Processed 500000 lines from GTF file...\n",
            "Processed 600000 lines from GTF file...\n",
            "Processed 700000 lines from GTF file...\n",
            "Processed 800000 lines from GTF file...\n",
            "Processed 900000 lines from GTF file...\n",
            "Processed 1000000 lines from GTF file...\n",
            "Processed 1100000 lines from GTF file...\n",
            "Processed 1200000 lines from GTF file...\n",
            "Processed 1300000 lines from GTF file...\n",
            "Processed 1400000 lines from GTF file...\n",
            "Processed 1500000 lines from GTF file...\n",
            "Processed 1600000 lines from GTF file...\n",
            "Processed 1700000 lines from GTF file...\n",
            "Processed 1800000 lines from GTF file...\n",
            "Processed 1900000 lines from GTF file...\n",
            "After comprehensive mapping: 3389 gene symbols mapped to Ensembl IDs\n"
          ]
        }
      ],
      "source": [
        "# If mapping is insufficient, use a more comprehensive approach with the entire GTF file\n",
        "print(\"Initial mapping was insufficient, trying a more comprehensive approach...\")\n",
        "\n",
        "# Set to track processed gene symbols to avoid duplicates\n",
        "processed_genes = set()\n",
        "\n",
        "with open(gtf_file, 'r') as f:\n",
        "    line_count = 0\n",
        "    for line in f:\n",
        "        line_count += 1\n",
        "        if line_count % 100000 == 0:\n",
        "            print(f\"Processed {line_count} lines from GTF file...\")\n",
        "            \n",
        "        if line.startswith('#'):\n",
        "            continue\n",
        "            \n",
        "        fields = line.strip().split('\\t')\n",
        "        if fields[2] == 'gene':\n",
        "            attributes = fields[8]\n",
        "            \n",
        "            # Extract gene_id and gene_name\n",
        "            gene_id = None\n",
        "            gene_name = None\n",
        "            \n",
        "            for attr in attributes.split(';'):\n",
        "                if 'gene_id' in attr:\n",
        "                    gene_id = attr.strip().split(' ')[1].replace('\"', '')\n",
        "                if 'gene_name' in attr:\n",
        "                    gene_name = attr.strip().split(' ')[1].replace('\"', '')\n",
        "            \n",
        "            if gene_id and gene_name and gene_name in regulatory_genes and gene_name not in processed_genes:\n",
        "                # Remove version number from gene_id if present\n",
        "                gene_id = gene_id.split('.')[0]\n",
        "                gene_symbol_to_ensembl[gene_name] = gene_id\n",
        "                processed_genes.add(gene_name)\n",
        "                \n",
        "                # Break early if we've found all the genes\n",
        "                if len(gene_symbol_to_ensembl) == len(regulatory_genes):\n",
        "                    break\n",
        "\n",
        "print(f\"After comprehensive mapping: {len(gene_symbol_to_ensembl)} gene symbols mapped to Ensembl IDs\")"
      ]
    },
    {
      "cell_type": "code",
      "execution_count": 19,
      "metadata": {},
      "outputs": [],
      "source": [
        "# Function to get gene ID with version\n",
        "def get_gene_id_with_version(ensembl_id, diff_expr_df):\n",
        "    # First try exact match\n",
        "    if ensembl_id in diff_expr_df.index:\n",
        "        return ensembl_id\n",
        "    \n",
        "    # Then try matching the base ID (without version number)\n",
        "    matching_ids = [idx for idx in diff_expr_df.index if idx.startswith(ensembl_id + '.')]\n",
        "    if matching_ids:\n",
        "        return matching_ids[0]\n",
        "    \n",
        "    return None"
      ]
    },
    {
      "cell_type": "code",
      "execution_count": 20,
      "metadata": {},
      "outputs": [
        {
          "name": "stdout",
          "output_type": "stream",
          "text": [
            "Loaded differential expression data for 37665 genes\n"
          ]
        }
      ],
      "source": [
        "# Read differential expression data\n",
        "diff_expr_df = pd.read_csv(diff_expr_file, index_col=0)\n",
        "print(f\"Loaded differential expression data for {len(diff_expr_df)} genes\")"
      ]
    },
    {
      "cell_type": "code",
      "execution_count": 21,
      "metadata": {},
      "outputs": [],
      "source": [
        "# Define thresholds for differential expression\n",
        "padj_threshold = 0.01\n",
        "log2fc_threshold = 0.0"
      ]
    },
    {
      "cell_type": "code",
      "execution_count": 22,
      "metadata": {},
      "outputs": [
        {
          "name": "stdout",
          "output_type": "stream",
          "text": [
            "Found differential expression data for 3269 regulatory genes\n"
          ]
        }
      ],
      "source": [
        "# Analyze regulatory genes in differential expression data\n",
        "regulatory_diff_expr = []\n",
        "\n",
        "for gene_symbol, ensembl_id in gene_symbol_to_ensembl.items():\n",
        "    gene_id_with_version = get_gene_id_with_version(ensembl_id, diff_expr_df)\n",
        "    \n",
        "    if gene_id_with_version and gene_id_with_version in diff_expr_df.index:\n",
        "        gene_data = diff_expr_df.loc[gene_id_with_version]\n",
        "        \n",
        "        regulatory_diff_expr.append({\n",
        "            'gene_symbol': gene_symbol,\n",
        "            'ensembl_id': gene_id_with_version,\n",
        "            'baseMean': gene_data['baseMean'],\n",
        "            'log2FoldChange': gene_data['log2FoldChange'],\n",
        "            'padj': gene_data['padj'],\n",
        "            'is_significant': gene_data['padj'] < padj_threshold,\n",
        "            'regulation': 'Upregulated' if gene_data['log2FoldChange'] > log2fc_threshold and gene_data['padj'] < padj_threshold else\n",
        "                         'Downregulated' if gene_data['log2FoldChange'] < -log2fc_threshold and gene_data['padj'] < padj_threshold else\n",
        "                         'Not significant'\n",
        "        })\n",
        "\n",
        "regulatory_df = pd.DataFrame(regulatory_diff_expr)\n",
        "print(f\"Found differential expression data for {len(regulatory_df)} regulatory genes\")"
      ]
    },
    {
      "cell_type": "code",
      "execution_count": 23,
      "metadata": {},
      "outputs": [
        {
          "name": "stdout",
          "output_type": "stream",
          "text": [
            "\n",
            "Regulation status of regulatory genes:\n",
            "regulation\n",
            "Not significant    2064\n",
            "Upregulated         691\n",
            "Downregulated       514\n",
            "Name: count, dtype: int64\n"
          ]
        }
      ],
      "source": [
        "# Summarize the regulation status\n",
        "regulation_counts = regulatory_df['regulation'].value_counts()\n",
        "print(\"\\nRegulation status of regulatory genes:\")\n",
        "print(regulation_counts)"
      ]
    },
    {
      "cell_type": "code",
      "execution_count": 24,
      "metadata": {},
      "outputs": [
        {
          "data": {
            "image/png": "[encoded data removed]",
            "text/plain": [
              "<Figure size 1000x600 with 1 Axes>"
            ]
          },
          "metadata": {},
          "output_type": "display_data"
        }
      ],
      "source": [
        "# Create a bar plot\n",
        "plt.figure(figsize=(10, 6))\n",
        "\n",
        "# Count genes by regulation status\n",
        "up_count = len(regulatory_df[regulatory_df['regulation'] == 'Upregulated'])\n",
        "down_count = len(regulatory_df[regulatory_df['regulation'] == 'Downregulated'])\n",
        "not_sig_count = len(regulatory_df[regulatory_df['regulation'] == 'Not significant'])\n",
        "not_found_count = len(regulatory_genes) - len(regulatory_df)\n",
        "\n",
        "# Calculate percentages\n",
        "total_found = len(regulatory_df)\n",
        "up_percent = (up_count / total_found) * 100 if total_found > 0 else 0\n",
        "down_percent = (down_count / total_found) * 100 if total_found > 0 else 0\n",
        "\n",
        "# Create the bar plot\n",
        "categories = ['Upregulated genes', 'Downregulated genes']\n",
        "values = [up_percent, down_percent]\n",
        "\n",
        "x = np.arange(len(categories))\n",
        "width = 0.6\n",
        "\n",
        "plt.bar(x, values, width, color=['#1f77b4', '#ff7f0e'])\n",
        "\n",
        "plt.xlabel('Sample')\n",
        "plt.ylabel('Percent of regulatory genes')\n",
        "plt.title('Differential expression of regulatory overlapping genes')\n",
        "plt.xticks(x, categories)\n",
        "plt.ylim(0, 100)\n",
        "\n",
        "# Add count labels on the bars\n",
        "for i, v in enumerate(values):\n",
        "    plt.text(i, v + 2, f\"{v:.1f}%\\n({[up_count, down_count][i]} genes)\", \n",
        "             ha='center', va='bottom')\n",
        "\n",
        "plt.tight_layout()\n",
        "plt.savefig(os.path.join(output_dir, 'regulatory_genes_expression.png'))\n",
        "plt.savefig(os.path.join(output_dir, 'regulatory_genes_expression.pdf'))\n",
        "plt.show()"
      ]
    },
    {
      "cell_type": "code",
      "execution_count": 25,
      "metadata": {},
      "outputs": [],
      "source": [
        "# Save the results to CSV\n",
        "regulatory_df.to_csv(os.path.join(output_dir, 'regulatory_genes_expression.csv'), index=False)\n",
        "\n",
        "# Save lists of up and down regulated genes\n",
        "regulatory_df[regulatory_df['regulation'] == 'Upregulated'][['gene_symbol', 'ensembl_id', 'log2FoldChange', 'padj']].to_csv(\n",
        "    os.path.join(output_dir, 'upregulated_regulatory_genes.csv'), index=False)\n",
        "\n",
        "regulatory_df[regulatory_df['regulation'] == 'Downregulated'][['gene_symbol', 'ensembl_id', 'log2FoldChange', 'padj']].to_csv(\n",
        "    os.path.join(output_dir, 'downregulated_regulatory_genes.csv'), index=False)"
      ]
    },
    {
      "cell_type": "code",
      "execution_count": 26,
      "metadata": {},
      "outputs": [
        {
          "name": "stdout",
          "output_type": "stream",
          "text": [
            "\n",
            "Analysis complete. Results saved to ../SRF_RNA/results/regulatory_genes_analysis\n"
          ]
        }
      ],
      "source": [
        "print(f\"\\nAnalysis complete. Results saved to {output_dir}\") "
      ]
    }
  ],
  "metadata": {
    "anaconda-cloud": {},
    "kernelspec": {
      "display_name": "base",
      "language": "python",
      "name": "python3"
    },
    "language_info": {
      "codemirror_mode": {
        "name": "ipython",
        "version": 3
      },
      "file_extension": ".py",
      "mimetype": "text/x-python",
      "name": "python",
      "nbconvert_exporter": "python",
      "pygments_lexer": "ipython3",
      "version": "3.12.9"
    }
  },
  "nbformat": 4,
  "nbformat_minor": 4
}
